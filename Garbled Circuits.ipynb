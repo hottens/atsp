{
 "cells": [
  {
   "cell_type": "code",
   "execution_count": 19,
   "metadata": {},
   "outputs": [
    {
     "data": {
      "text/plain": [
       "'0b11'"
      ]
     },
     "execution_count": 19,
     "metadata": {},
     "output_type": "execute_result"
    }
   ],
   "source": [
    "import numpy as np\n",
    "import random, string\n",
    "\n",
    "def random_label(N = 8):\n",
    "    return ''.join(random.choices(string.ascii_uppercase + string.digits, k=N))\n",
    "\n",
    "\n"
   ]
  },
  {
   "cell_type": "code",
   "execution_count": 42,
   "metadata": {},
   "outputs": [
    {
     "data": {
      "text/plain": [
       "{'c0': {('a0', 'b0', '-a1', '-b1'),\n",
       "  ('a0', 'b0', '-a1', 'b1'),\n",
       "  ('a0', 'b0', 'a1', '-b1'),\n",
       "  ('a0', 'b0', 'a1', 'b1')},\n",
       " 'c1': {('-a0', '-b0', 'a1', 'b1'),\n",
       "  ('-a0', 'b0', 'a1', '-b1'),\n",
       "  ('-a0', 'b0', 'a1', 'b1'),\n",
       "  ('a0', '-b0', '-a1', 'b1'),\n",
       "  ('a0', '-b0', 'a1', 'b1'),\n",
       "  ('a0', 'b0', 'a1', 'b1')}}"
      ]
     },
     "execution_count": 42,
     "metadata": {},
     "output_type": "execute_result"
    }
   ],
   "source": [
    "n_bits = 2\n",
    "\n",
    "t = []\n",
    "\n",
    "d = {}\n",
    "for i in range(n_bits):\n",
    "    d['c{}'.format(i)] = set()\n",
    "\n",
    "for i in range(2**n_bits):\n",
    "    for j in range(2**n_bits):\n",
    "        format_string = '0{}b'.format(n_bits)\n",
    "        \n",
    "        a = format(i, format_string)\n",
    "        b = format(j, format_string)\n",
    "        c = format(min(i,j), format_string)\n",
    "        \n",
    "        t.append((a, b, c))\n",
    "        for idx, bit in enumerate(c):\n",
    "            if int(bit) != 1: continue\n",
    "            conj = []\n",
    "            for n in range(n_bits):\n",
    "                conj.append('a{}'.format(n) if int(a[n]) == 1 else '-a{}'.format(n))\n",
    "                conj.append('b{}'.format(n) if int(b[n]) == 1 else '-b{}'.format(n))\n",
    "            d['c{}'.format(idx)].add(tuple(conj))\n",
    "            \n",
    "                \n",
    "d"
   ]
  },
  {
   "cell_type": "code",
   "execution_count": 43,
   "metadata": {},
   "outputs": [
    {
     "data": {
      "text/plain": [
       "['a0', 'b0', 'a1', 'b1']"
      ]
     },
     "execution_count": 43,
     "metadata": {},
     "output_type": "execute_result"
    }
   ],
   "source": [
    "labels = []\n",
    "for label in list(d['c0'])[0]:\n",
    "    labels.append(label.replace('-',''))\n",
    "    \n",
    "labels\n"
   ]
  },
  {
   "cell_type": "code",
   "execution_count": 44,
   "metadata": {},
   "outputs": [
    {
     "data": {
      "text/plain": [
       "[['1100', '1101', '1110', '1111'],\n",
       " ['0110', '1111', '1011', '1001', '0111', '0011']]"
      ]
     },
     "execution_count": 44,
     "metadata": {},
     "output_type": "execute_result"
    }
   ],
   "source": [
    "l = []\n",
    "\n",
    "\n",
    "for key in d.keys():\n",
    "    terms = []\n",
    "    c = d[key]\n",
    "    \n",
    "    for a in c:\n",
    "        term = ''\n",
    "        for b in a:\n",
    "            term += '1' if not b[0] == '-' else '0'\n",
    "        terms.append(term)\n",
    "    l.append(terms)\n",
    "    \n",
    "l\n",
    "        "
   ]
  },
  {
   "cell_type": "code",
   "execution_count": 21,
   "metadata": {},
   "outputs": [
    {
     "name": "stdout",
     "output_type": "stream",
     "text": [
      "[1*0*, 10**, *110]\n"
     ]
    }
   ],
   "source": [
    "from KMap import Minterms\n",
    "from utils import Term\n",
    "\n",
    "str_terms = ['0110', '1000', '1001', '1010', '1011', '1100', '1101', '1110']\n",
    "t_minterms = [Term(term) for term in str_terms]\n",
    "\n",
    "minterms = Minterms(t_minterms)\n",
    "minterms.simplify()\n",
    "print(minterms.result)\n",
    "\n"
   ]
  },
  {
   "cell_type": "code",
   "execution_count": 45,
   "metadata": {},
   "outputs": [
    {
     "data": {
      "text/plain": [
       "[[11**], [10*1, 011*, **11]]"
      ]
     },
     "execution_count": 45,
     "metadata": {},
     "output_type": "execute_result"
    }
   ],
   "source": [
    "circuits = []\n",
    "\n",
    "for terms in l:\n",
    "    t_minterms = [Term(term) for term in terms]\n",
    "\n",
    "    minterms = Minterms(t_minterms)\n",
    "    minterms.simplify()\n",
    "    circuits.append(minterms.result)\n",
    "    \n",
    "circuits\n",
    "    "
   ]
  },
  {
   "cell_type": "code",
   "execution_count": 54,
   "metadata": {},
   "outputs": [
    {
     "name": "stdout",
     "output_type": "stream",
     "text": [
      "a0^b0\n",
      "a0^-b0^b1 v -a0^b0^a1 v a1^b1\n"
     ]
    }
   ],
   "source": [
    "for circuit in circuits:\n",
    "    result = []\n",
    "    for c in circuit:\n",
    "        s = []\n",
    "        for i, b in enumerate(str(c)):\n",
    "            if b == '*': continue\n",
    "            s.append(labels[i] if b == '1' else '-'+labels[i])\n",
    "            \n",
    "        result.append('^'.join(s))\n",
    "    print(' v '.join(result))\n",
    "    "
   ]
  }
 ],
 "metadata": {
  "kernelspec": {
   "display_name": "Python 3",
   "language": "python",
   "name": "python3"
  },
  "language_info": {
   "codemirror_mode": {
    "name": "ipython",
    "version": 3
   },
   "file_extension": ".py",
   "mimetype": "text/x-python",
   "name": "python",
   "nbconvert_exporter": "python",
   "pygments_lexer": "ipython3",
   "version": "3.7.4"
  }
 },
 "nbformat": 4,
 "nbformat_minor": 2
}
