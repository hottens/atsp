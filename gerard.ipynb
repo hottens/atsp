{
 "cells": [
  {
   "cell_type": "code",
   "execution_count": 88,
   "metadata": {
    "scrolled": true
   },
   "outputs": [
    {
     "name": "stdout",
     "output_type": "stream",
     "text": [
      "added: ./6test/neg_a.duMobile.srv.apk\n",
      "added: ./6test/neg_abhishek.arcdroid.tenth.apk\n",
      "added: ./6test/neg_air.bg.teracomm.vivablitz.apk\n",
      "added: ./6test/pos_a.a.hikidashi.apk\n",
      "added: ./6test/pos_adsindy.com.terla.apk\n",
      "added: ./6test/pos_agency.contra.apps.kpmg.kpmgglobalevent.apk\n",
      "added: ./6test/pos_air.A3bibe.apk\n",
      "added: ./6test/pos_air.air.lyl.ThreeKingdomsFT.apk\n",
      "number apk's found:  8\n"
     ]
    }
   ],
   "source": [
    "from os import listdir\n",
    "from os.path import isfile, join\n",
    "\n",
    "\n",
    "#apk_path = 'APKs'\n",
    "apk_path = '6test'\n",
    "#sesName = apk_path + \".ag\"\n",
    "useSes = True ;\n",
    "\n",
    "apks = []\n",
    "for f in listdir(apk_path):\n",
    "    if isfile(join(apk_path, f)) and f.endswith(\".apk\"):\n",
    "        full = './' + apk_path + '/' + f\n",
    "        apks.append(full)\n",
    "        print(\"added: \" + full)        \n",
    "\n",
    "#apks = [f for f in listdir(apk_path) if (isfile(join(apk_path, f)) and f.endswith(\".apk\"))]\n",
    "\n",
    "print(\"number apk's found: \", len(apks))"
   ]
  },
  {
   "cell_type": "code",
   "execution_count": 89,
   "metadata": {},
   "outputs": [
    {
     "name": "stdout",
     "output_type": "stream",
     "text": [
      "analysed: ./6test/neg_a.duMobile.srv.apk\n",
      "analysed: ./6test/neg_abhishek.arcdroid.tenth.apk\n",
      "analysed: ./6test/neg_air.bg.teracomm.vivablitz.apk\n",
      "analysed: ./6test/pos_a.a.hikidashi.apk\n",
      "analysed: ./6test/pos_adsindy.com.terla.apk\n",
      "analysed: ./6test/pos_agency.contra.apps.kpmg.kpmgglobalevent.apk\n"
     ]
    },
    {
     "name": "stderr",
     "output_type": "stream",
     "text": [
      "Requested API Level could not be found, using 10 instead\n"
     ]
    },
    {
     "name": "stdout",
     "output_type": "stream",
     "text": [
      "analysed: ./6test/pos_air.A3bibe.apk\n",
      "analysed: ./6test/pos_air.air.lyl.ThreeKingdomsFT.apk\n"
     ]
    }
   ],
   "source": [
    "from androguard import misc\n",
    "from androguard import session\n",
    "from os import listdir\n",
    "from os.path import isfile, join\n",
    "\n",
    "if useSes:\n",
    "    s = misc.get_default_session()\n",
    "    for apk in apks:    \n",
    "        digest = s.add(apk)\n",
    "        print(\"analysed: \" + apk)\n",
    "else:\n",
    "    print(\"not using session analysis cache\");\n"
   ]
  },
  {
   "cell_type": "code",
   "execution_count": 35,
   "metadata": {},
   "outputs": [
    {
     "name": "stdout",
     "output_type": "stream",
     "text": [
      "<analysis.MethodClassAnalysis Landroid/webkit/WebSettings;->setUserAgentString(Ljava/lang/String;)V EXTERNAL>\n",
      "L0 Call from Lorg/apache/cordova/inappbrowser/InAppBrowser$5; => run:2814\n",
      "<androguard.core.bytecodes.dvm.EncodedMethod object at 0x0000021D0FD2AF60>\n",
      "L0 Call from Lorg/apache/cordova/engine/SystemWebViewEngine; => initWebViewSettings:690\n",
      "<androguard.core.bytecodes.dvm.EncodedMethod object at 0x0000021D1227A940>\n",
      "L0 Call from Lorg/apache/cordova/engine/SystemWebViewEngine; => initWebViewSettings:470\n",
      "<androguard.core.bytecodes.dvm.EncodedMethod object at 0x0000021D1227A940>\n",
      "L0 Call from Lorg/apache/cordova/inappbrowser/InAppBrowser$5; => run:2878\n",
      "<androguard.core.bytecodes.dvm.EncodedMethod object at 0x0000021D0FD2AF60>\n"
     ]
    }
   ],
   "source": [
    "from androguard.core.analysis.analysis import ExternalMethod\n",
    "\n",
    "def analyseMethod(ma, level=0):    \n",
    "    print(repr(ma))\n",
    "    for pca, pm, offset in ma.get_xref_from(): #(ClassAnalysis, EncodedMethod or ExternalMethod, int\n",
    "        #print(repr(ma.get_xref_from()))\n",
    "        #isExtMethod = isinstance(pm, ExternalMethod)    \n",
    "        #str = isExtMethod ? \"ext-method\" : \"non-ext-meth\"\n",
    "        print(\"L{} Call from {} => {}:{}\".format(level, pca.name, pm.name, offset))\n",
    "        print(repr(pm))\n",
    "        #if(False): #doesnt work\n",
    "        #    analyseMethod(pm,level+1) \n",
    "\n",
    "for apk in apks:\n",
    "    if(useSes):\n",
    "        a, d, dx = s.get_objects_apk(filename = apk)\n",
    "    else:\n",
    "        a, d, dx = misc.AnalyzeAPK(apk)        \n",
    "        \n",
    "    for ma in dx.find_methods(classname=\"Landroid/webkit/WebSettings;\", methodname='setUserAgentString'):                \n",
    "        analyseMethod(ma)\n",
    "    \n",
    "\n",
    "    \n",
    "\n",
    "    "
   ]
  },
  {
   "cell_type": "code",
   "execution_count": 93,
   "metadata": {},
   "outputs": [
    {
     "name": "stdout",
     "output_type": "stream",
     "text": [
      "Name: ./6test/neg_a.duMobile.srv.apk\n",
      "Type: DiGraph\n",
      "Number of nodes: 0\n",
      "Number of edges: 0\n",
      "\n",
      "\n",
      "Name: ./6test/neg_abhishek.arcdroid.tenth.apk\n",
      "Type: DiGraph\n",
      "Number of nodes: 0\n",
      "Number of edges: 0\n",
      "\n",
      "\n",
      "Name: ./6test/neg_air.bg.teracomm.vivablitz.apk\n",
      "Type: DiGraph\n",
      "Number of nodes: 0\n",
      "Number of edges: 0\n",
      "\n",
      "\n",
      "Name: ./6test/pos_a.a.hikidashi.apk\n",
      "Type: DiGraph\n",
      "Number of nodes: 1\n",
      "Number of edges: 0\n",
      "Average in degree:   0.0000\n",
      "Average out degree:   0.0000\n",
      "\n",
      "Name: ./6test/pos_adsindy.com.terla.apk\n",
      "Type: DiGraph\n",
      "Number of nodes: 1\n",
      "Number of edges: 0\n",
      "Average in degree:   0.0000\n",
      "Average out degree:   0.0000\n",
      "\n",
      "Name: ./6test/pos_agency.contra.apps.kpmg.kpmgglobalevent.apk\n",
      "Type: DiGraph\n",
      "Number of nodes: 1\n",
      "Number of edges: 0\n",
      "Average in degree:   0.0000\n",
      "Average out degree:   0.0000\n",
      "\n",
      "Name: ./6test/pos_air.A3bibe.apk\n",
      "Type: DiGraph\n",
      "Number of nodes: 1\n",
      "Number of edges: 0\n",
      "Average in degree:   0.0000\n",
      "Average out degree:   0.0000\n",
      "\n",
      "Name: ./6test/pos_air.air.lyl.ThreeKingdomsFT.apk\n",
      "Type: DiGraph\n",
      "Number of nodes: 1\n",
      "Number of edges: 0\n",
      "Average in degree:   0.0000\n",
      "Average out degree:   0.0000\n",
      "\n"
     ]
    }
   ],
   "source": [
    "from networkx import nx\n",
    "from networkx import MultiDiGraph\n",
    "#import networkx as nx\n",
    "#from networkx import MultiDiGraph\n",
    "#from networkx import MultiDiGraph\n",
    "# nx.MultiDiGraph   \n",
    "\n",
    "\n",
    "\n",
    "\n",
    "for apk in apks:\n",
    "    if(useSes):\n",
    "        a, d, dx = s.get_objects_apk(filename = apk)\n",
    "    else:\n",
    "        a, d, dx = misc.AnalyzeAPK(apk)        \n",
    "    cg = dx.get_call_graph(classname=\"Landroid/webkit/WebSettings;\",  methodname='setUserAgentString')\n",
    "    cg.name = apk\n",
    "    \n",
    "    print(nx.info(cg) + \"\\n\")\n",
    "    #print(repr(cg))\n",
    "\n",
    "    \n",
    "#    for ma in dx.find_methods(classname=\"Landroid/webkit/WebSettings;\", methodname='setUserAgentString'):                        \n",
    "#        m = ma.get_method() #  m:ExternalMethod, ma: MethodClassAnalysis,\n",
    "        #cg = m.get_call_graph()\n",
    "    \n",
    "    \n",
    "    \n",
    "        \n",
    "           \n",
    "\n"
   ]
  },
  {
   "cell_type": "code",
   "execution_count": 64,
   "metadata": {},
   "outputs": [
    {
     "name": "stdout",
     "output_type": "stream",
     "text": [
      "<analysis.ExternalMethod Landroid/webkit/WebSettings;->setUserAgentString(Ljava/lang/String;)V>\n"
     ]
    },
    {
     "data": {
      "image/png": "[encoded data removed]",
      "text/plain": [
       "<Figure size 432x288 with 1 Axes>"
      ]
     },
     "metadata": {
      "needs_background": "light"
     },
     "output_type": "display_data"
    }
   ],
   "source": [
    "import matplotlib.pyplot as plt\n",
    "import networkx as nx\n",
    "from networkx import MultiDiGraph\n",
    "\n",
    "for apk in apks:\n",
    "    if(useSes):\n",
    "        a, d, dx = s.get_objects_apk(filename = apk)\n",
    "    else:\n",
    "        a, d, dx = misc.AnalyzeAPK(apk)        \n",
    "        \n",
    "    for cg in dx.get_call_graph(classname=\"Landroid/webkit/WebSettings;\", methodname='setUserAgentString'):                \n",
    "        print( repr(cg))\n",
    "        pos = nx.spring_layout(G) \n",
    "        nx.draw_networkx(G, pos, with_labels=False) # OR: nx.draw(G, pos)\n",
    "        #nx.draw_networkx(cg)\n",
    "        #plt.draw()\n",
    "        #plt.show() \n",
    "        \n",
    "\n",
    "       "
   ]
  },
  {
   "cell_type": "code",
   "execution_count": 60,
   "metadata": {},
   "outputs": [
    {
     "name": "stdout",
     "output_type": "stream",
     "text": [
      "\n"
     ]
    },
    {
     "data": {
      "image/png": "[encoded data removed]",
      "text/plain": [
       "<Figure size 432x288 with 1 Axes>"
      ]
     },
     "metadata": {
      "needs_background": "light"
     },
     "output_type": "display_data"
    }
   ],
   "source": [
    "import networkx as nx\n",
    "import matplotlib.pyplot as plt\n",
    " \n",
    "# Step 1: Build up a graph\n",
    "#G = nx.Graph()\n",
    "G = nx.MultiDiGraph()\n",
    "print()\n",
    "G.add_node('n1', alias='source')\n",
    "G.add_node('n2', alias='sink')\n",
    "G.add_edge('n1', 'n2')\n",
    " \n",
    "# Step 2: Draw the graph and suppress node labels (node id)\n",
    "pos = nx.spring_layout(G) \n",
    "nx.draw_networkx(G, pos, with_labels=False) # OR: nx.draw(G, pos)\n",
    " \n",
    "# Step 3: Draw the graph with the specific node labels\n",
    "node_labels = nx.get_node_attributes(G, 'alias') # a dict of attributes keyed by node\n",
    "nx.draw_networkx_labels(G, pos, node_labels)\n",
    " \n",
    "#plt.axis('off')\n",
    "plt.show()\n"
   ]
  }
 ],
 "metadata": {
  "kernelspec": {
   "display_name": "Python 3",
   "language": "python",
   "name": "python3"
  },
  "language_info": {
   "codemirror_mode": {
    "name": "ipython",
    "version": 3
   },
   "file_extension": ".py",
   "mimetype": "text/x-python",
   "name": "python",
   "nbconvert_exporter": "python",
   "pygments_lexer": "ipython3",
   "version": "3.6.5"
  }
 },
 "nbformat": 4,
 "nbformat_minor": 2
}
