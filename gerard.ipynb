{
 "cells": [
  {
   "cell_type": "code",
   "execution_count": 1,
   "metadata": {},
   "outputs": [
    {
     "name": "stdout",
     "output_type": "stream",
     "text": [
      "added: ./6test/neg_a.duMobile.srv.apk\n",
      "added: ./6test/neg_abhishek.arcdroid.tenth.apk\n",
      "added: ./6test/neg_air.bg.teracomm.vivablitz.apk\n",
      "added: ./6test/pos_a.a.hikidashi.apk\n",
      "added: ./6test/pos_adsindy.com.terla.apk\n",
      "added: ./6test/pos_air.A3bibe.apk\n",
      "number apk's found:  6\n"
     ]
    }
   ],
   "source": [
    "from os import listdir\n",
    "from os.path import isfile, join\n",
    "\n",
    "\n",
    "#apk_path = 'APKs'\n",
    "apk_path = '6test'\n",
    "#sesName = apk_path + \".ag\"\n",
    "useSes = True ;\n",
    "\n",
    "apks = []\n",
    "for f in listdir(apk_path):\n",
    "    if isfile(join(apk_path, f)) and f.endswith(\".apk\"):\n",
    "        full = './' + apk_path + '/' + f\n",
    "        apks.append(full)\n",
    "        print(\"added: \" + full)\n",
    "        \n",
    "\n",
    "#apks = [f for f in listdir(apk_path) if (isfile(join(apk_path, f)) and f.endswith(\".apk\"))]\n",
    "\n",
    "print(\"number apk's found: \", len(apks))"
   ]
  },
  {
   "cell_type": "code",
   "execution_count": 2,
   "metadata": {},
   "outputs": [
    {
     "name": "stdout",
     "output_type": "stream",
     "text": [
      "analysed: ./6test/neg_a.duMobile.srv.apk\n",
      "analysed: ./6test/neg_abhishek.arcdroid.tenth.apk\n",
      "analysed: ./6test/neg_air.bg.teracomm.vivablitz.apk\n",
      "analysed: ./6test/pos_a.a.hikidashi.apk\n",
      "analysed: ./6test/pos_adsindy.com.terla.apk\n",
      "analysed: ./6test/pos_air.A3bibe.apk\n"
     ]
    }
   ],
   "source": [
    "from androguard import misc\n",
    "from androguard import session\n",
    "from os import listdir\n",
    "from os.path import isfile, join\n",
    "\n",
    "if useSes:\n",
    "    s = misc.get_default_session()\n",
    "    for apk in apks:    \n",
    "        digest = s.add(apk)\n",
    "        print(\"analysed: \" + apk)\n",
    "else:\n",
    "    print(\"not using session analysis cache\");\n"
   ]
  },
  {
   "cell_type": "code",
   "execution_count": 4,
   "metadata": {},
   "outputs": [
    {
     "name": "stdout",
     "output_type": "stream",
     "text": [
      "L0 Call from Lcom/google/ads/util/AdUtil; => a:32\n",
      "L0 Call from Lcom/google/android/gms/internal/gj; => a:8\n",
      "L0 Call from Lcom/google/android/gms/internal/dq; => a:8\n"
     ]
    }
   ],
   "source": [
    "from androguard.core.analysis.analysis import ExternalMethod\n",
    "\n",
    "def analyseMethod(ma, level=0):    \n",
    "    for pca, pm, offset in ma.get_xref_from(): #(ClassAnalysis, EncodedMethod or ExternalMethod, int\n",
    "        #print(repr(ma.get_xref_from()))\n",
    "        print(\"L{} Call from {} => {}:{}\".format(level, pca.name, pm.name, offset))\n",
    "        #print(repr(pm))\n",
    "        #goto into recursion\n",
    "        if(False): #doesnt work\n",
    "            analyseMethod(pm,level+1) \n",
    "\n",
    "for apk in apks:\n",
    "    if(useSes):\n",
    "        a, d, dx = s.get_objects_apk(filename = apk)\n",
    "    else:\n",
    "        a, d, dx = misc.AnalyzeAPK(apk)        \n",
    "    #print(\"processing: \" + apk);\n",
    "    \n",
    "    #iterate over MethodClassAnalysis \n",
    "    for ma in dx.find_methods(classname=\"Landroid/webkit/WebSettings;\", methodname='setUserAgentString'):        \n",
    "        #m = ma.get_method()  \n",
    "        #refs = ma.get_xref_from()\n",
    "        #print(\"info {}\".format(refs));\n",
    "        # isExternalMethod = isinstance(m, ExternalMethod) # ? True : False\n",
    "        #print(\"Found Method --> {}\".format(m))\n",
    "        analyseMethod(ma)\n",
    "    \n",
    "\n",
    "    \n",
    "    "
   ]
  }
 ],
 "metadata": {
  "kernelspec": {
   "display_name": "Python 3",
   "language": "python",
   "name": "python3"
  },
  "language_info": {
   "codemirror_mode": {
    "name": "ipython",
    "version": 3
   },
   "file_extension": ".py",
   "mimetype": "text/x-python",
   "name": "python",
   "nbconvert_exporter": "python",
   "pygments_lexer": "ipython3",
   "version": "3.6.5"
  }
 },
 "nbformat": 4,
 "nbformat_minor": 2
}
