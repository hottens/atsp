{
 "cells": [
  {
   "cell_type": "code",
   "execution_count": null,
   "metadata": {
    "scrolled": true
   },
   "outputs": [],
   "source": [
    "#code to read all the apk's in the dir\n",
    "from os import listdir\n",
    "from os.path import isfile, join\n",
    "\n",
    "\n",
    "apk_path = 'APKs'\n",
    "#apk_path = '6test'\n",
    "#sesName = apk_path + \".ag\"\n",
    "useSes = False\n",
    "\n",
    "apks = []\n",
    "for f in listdir(apk_path):\n",
    "    if isfile(join(apk_path, f)) and f.endswith(\".apk\"):\n",
    "        full = './' + apk_path + '/' + f\n",
    "        apks.append(full)\n",
    "        print(\"added: \" + full)  \n",
    "        \n",
    "\n",
    "#apks = [f for f in listdir(apk_path) if (isfile(join(apk_path, f)) and f.endswith(\".apk\"))]\n",
    "\n",
    "print(\"number apk's found: \", len(apks))"
   ]
  },
  {
   "cell_type": "code",
   "execution_count": null,
   "metadata": {},
   "outputs": [],
   "source": [
    "#code to cache the analysis of the apk's (if this is enabled)\n",
    "from androguard import misc\n",
    "from androguard import session\n",
    "from os import listdir\n",
    "from os.path import isfile, join\n",
    "\n",
    "if useSes:\n",
    "    s = misc.get_default_session()\n",
    "    for apk in apks:    \n",
    "        digest = s.add(apk)\n",
    "        print(\"analysed: \" + apk)\n",
    "else:\n",
    "    print(\"not using session analysis cache\");\n"
   ]
  },
  {
   "cell_type": "code",
   "execution_count": null,
   "metadata": {},
   "outputs": [],
   "source": [
    "# code that uses get_xref_from() to see from where the code is called \n",
    "from androguard.core.analysis.analysis import ExternalMethod\n",
    "\n",
    "def analyseMethod(ma, level=0):    \n",
    "    #print(repr(ma))\n",
    "    for pca, pm, offset in ma.get_xref_from(): #(ClassAnalysis, EncodedMethod or ExternalMethod, int\n",
    "        print(\"L{} Call from {} => {}:{}\".format(level, pca.name, pm.name, offset))\n",
    "        \n",
    "\n",
    "for apk in apks:\n",
    "    print(\"*** \" + apk )\n",
    "    if(useSes):\n",
    "        a, d, dx = s.get_objects_apk(filename = apk)\n",
    "    else:\n",
    "        a, d, dx = misc.AnalyzeAPK(apk)        \n",
    "        \n",
    "    #for ma in dx.find_methods(classname=\"Landroid/webkit/WebSettings;\", methodname='setUserAgentString'):\n",
    "    for ma in dx.find_methods(methodname='setUserAgentString'):\n",
    "        analyseMethod(ma)\n",
    "    \n",
    "\n",
    "    "
   ]
  },
  {
   "cell_type": "code",
   "execution_count": null,
   "metadata": {},
   "outputs": [],
   "source": [
    "#code using the get_call_graph() function from the androguard API\n",
    "from networkx import nx\n",
    "from networkx import MultiDiGraph\n",
    "import matplotlib.pyplot as plt\n",
    "\n",
    " \n",
    "cnt = 0\n",
    "for apk in apks:\n",
    "    cnt+=1\n",
    "    if(useSes):\n",
    "        a, d, dx = s.get_objects_apk(filename = apk)\n",
    "    else:\n",
    "        a, d, dx = misc.AnalyzeAPK(apk)        \n",
    "        \n",
    "    cg = dx.get_call_graph(methodname='setUserAgentString')    \n",
    "    cg.name = apk\n",
    "    print(nx.info(cg) + \"\\n\") \n",
    " "
   ]
  },
  {
   "cell_type": "code",
   "execution_count": null,
   "metadata": {},
   "outputs": [],
   "source": [
    "#block that draws call-tree \n",
    "from networkx import nx\n",
    "from networkx import MultiDiGraph\n",
    "import matplotlib.pyplot as plt\n",
    "\n",
    " \n",
    "cnt = 0\n",
    "for apk in apks:\n",
    "    cnt+=1\n",
    "    if(useSes):\n",
    "        a, d, dx = s.get_objects_apk(filename = apk)\n",
    "    else:\n",
    "        a, d, dx = misc.AnalyzeAPK(apk)            \n",
    "    plt.figure(cnt, figsize=(8, 6))\n",
    "    cg = dx.get_call_graph(methodname='setUserAgentString')    \n",
    "    cg.name = apk\n",
    "    print(nx.info(cg))\n",
    "    pos = nx.spring_layout(cg) # circular_layout random_layout shell_layout spring_layout spectral_layout    \n",
    "    nx.draw_networkx(cg)     \n",
    "    \n",
    "    \n",
    "plt.show()    \n"
   ]
  }
 ],
 "metadata": {
  "kernelspec": {
   "display_name": "Python 3",
   "language": "python",
   "name": "python3"
  },
  "language_info": {
   "codemirror_mode": {
    "name": "ipython",
    "version": 3
   },
   "file_extension": ".py",
   "mimetype": "text/x-python",
   "name": "python",
   "nbconvert_exporter": "python",
   "pygments_lexer": "ipython3",
   "version": "3.6.5"
  }
 },
 "nbformat": 4,
 "nbformat_minor": 2
}
