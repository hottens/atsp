{
 "cells": [
  {
   "cell_type": "code",
   "execution_count": 85,
   "metadata": {},
   "outputs": [],
   "source": [
    "import numpy as np\n",
    "import random, string\n",
    "\n",
    "#def random_label(N = 2):\n",
    "#    return ''.join(random.choices(string.ascii_uppercase + string.digits, k=N))\n",
    "\n",
    "def random_label(bits = 64):\n",
    "    return hex(random.getrandbits(bits))[2:]\n"
   ]
  },
  {
   "cell_type": "code",
   "execution_count": 86,
   "metadata": {},
   "outputs": [
    {
     "data": {
      "text/plain": [
       "{0: ['1010', '1011', '1110', '1111'],\n",
       " 1: ['0101', '0110', '0111', '1001', '1101', '1111']}"
      ]
     },
     "execution_count": 86,
     "metadata": {},
     "output_type": "execute_result"
    }
   ],
   "source": [
    "n_bits = 2\n",
    "\n",
    "t = []\n",
    "\n",
    "label_to_random_label = {}\n",
    "random_label_to_label = {}\n",
    "\n",
    "circuit_per_bit = {}\n",
    "for i in range(n_bits):\n",
    "    circuit_per_bit[i] = []\n",
    "\n",
    "for i in range(2**n_bits):\n",
    "    for j in range(2**n_bits):\n",
    "        format_string = '0{}b'.format(n_bits)\n",
    "        \n",
    "        a_in  = format(i, format_string)\n",
    "        b_in  = format(j, format_string)\n",
    "        c_out = format(min(i,j), format_string)\n",
    "        \n",
    "        t.append((a_in, b_in, c_out))\n",
    "        for idx, bit in enumerate(c_out):\n",
    "            if int(bit) != 1: continue\n",
    "            \n",
    "            a = ''\n",
    "            b = ''\n",
    "            \n",
    "            for n in range(n_bits):\n",
    "                a_i = a_in[n]\n",
    "                b_i = b_in[n]\n",
    "                \n",
    "                label_a = ('-' if a_i == '0' else '') + ('a'+str(n))\n",
    "                label_b = ('-' if b_i == '0' else '') + ('b'+str(n))\n",
    "                \n",
    "                while True:\n",
    "                    if label_a in label_to_random_label.keys():\n",
    "                        break\n",
    "                    r_label_a = random_label()\n",
    "                    if not r_label_a in random_label_to_label.keys():\n",
    "                        random_label_to_label[r_label_a] = label_a\n",
    "                        label_to_random_label[label_a] = r_label_a\n",
    "                        break\n",
    "                while True:\n",
    "                    if label_b in label_to_random_label.keys():\n",
    "                        break\n",
    "                    r_label_b = random_label()\n",
    "                    if not r_label_b in random_label_to_label.keys():\n",
    "                        random_label_to_label[r_label_b] = label_b  \n",
    "                        label_to_random_label[label_b] = random_label()\n",
    "                        break\n",
    "                \n",
    "                a += str(a_i)\n",
    "                b += str(b_i)\n",
    "            \n",
    "            circuit_per_bit[idx].append(a+b)\n",
    "            \n",
    "                \n",
    "circuit_per_bit"
   ]
  },
  {
   "cell_type": "code",
   "execution_count": 87,
   "metadata": {},
   "outputs": [
    {
     "data": {
      "text/plain": [
       "{'a409bb31125e68e6': '-a0',\n",
       " '62398cc4c70778aa': '-b0',\n",
       " 'a5b5f9a74a2c1fc6': 'a1',\n",
       " '457686f7b3ed37bc': 'b1',\n",
       " 'd89caa899c35c6b6': 'b0',\n",
       " '36f7db245a72e2ec': '-b1',\n",
       " 'c94b9c0902827d0c': 'a0',\n",
       " '331962e4e774b97a': '-a1'}"
      ]
     },
     "execution_count": 87,
     "metadata": {},
     "output_type": "execute_result"
    }
   ],
   "source": [
    "random_label_to_label"
   ]
  },
  {
   "cell_type": "code",
   "execution_count": null,
   "metadata": {},
   "outputs": [],
   "source": []
  },
  {
   "cell_type": "code",
   "execution_count": 21,
   "metadata": {},
   "outputs": [
    {
     "name": "stdout",
     "output_type": "stream",
     "text": [
      "[1*0*, 10**, *110]\n"
     ]
    }
   ],
   "source": [
    "from KMap import Minterms\n",
    "from utils import Term\n",
    "\n",
    "str_terms = ['0110', '1000', '1001', '1010', '1011', '1100', '1101', '1110']\n",
    "t_minterms = [Term(term) for term in str_terms]\n",
    "\n",
    "minterms = Minterms(t_minterms)\n",
    "minterms.simplify()\n",
    "print(minterms.result)\n",
    "\n"
   ]
  },
  {
   "cell_type": "code",
   "execution_count": 48,
   "metadata": {},
   "outputs": [
    {
     "data": {
      "text/plain": [
       "[[1***1***],\n",
       " [1***01**, 01**1***, *1***1**],\n",
       " [11***01*, *1**001*, **1***1*, 001**1**, *01*11**, 1***0*1*, 0*1*1***],\n",
       " [111***01,\n",
       "  11***0*1,\n",
       "  1*1**001,\n",
       "  **1*0001,\n",
       "  1***0**1,\n",
       "  *11*0*01,\n",
       "  0001**1*,\n",
       "  **01111*,\n",
       "  ***1***1,\n",
       "  00*1*1**,\n",
       "  *0*111**,\n",
       "  0**11***,\n",
       "  0*01*11*,\n",
       "  *1**00*1,\n",
       "  *0011*1*]]"
      ]
     },
     "execution_count": 48,
     "metadata": {},
     "output_type": "execute_result"
    }
   ],
   "source": [
    "from KMap import Minterms\n",
    "from utils import Term\n",
    "\n",
    "circuits = []\n",
    "\n",
    "for key in result_per_bit.keys():\n",
    "    terms = result_per_bit[key]\n",
    "    t_minterms = [Term(term) for term in terms]\n",
    "\n",
    "    minterms = Minterms(t_minterms)\n",
    "    minterms.simplify()\n",
    "    circuits.append(minterms.result)\n",
    "    \n",
    "circuits\n",
    "    "
   ]
  },
  {
   "cell_type": "code",
   "execution_count": 49,
   "metadata": {},
   "outputs": [
    {
     "name": "stdout",
     "output_type": "stream",
     "text": [
      "0x90aecfaaa36102c3^0x53cd87bfdd08fa16\n",
      "0x449376f5c0ae61cd^0x4fc8bf4294a81c70 v 0x90aecfaaa36102c3^0x2b7f939881f2e084^0x4fc8bf4294a81c70 v 0x449376f5c0ae61cd^0x53cd87bfdd08fa16^0xfe7e1f8a2c1c0598\n",
      "0x2b7f939881f2e084^0x90aecfaaa36102c3^0x53cd87bfdd08fa16 v 0xfe7e1f8a2c1c0598^0x53cd87bfdd08fa16^0x53cd87bfdd08fa16 v 0x53cd87bfdd08fa16^0x58eb8f2785c78d86^0x4fc8bf4294a81c70^0x53cd87bfdd08fa16 v 0x53cd87bfdd08fa16^0x2b7f939881f2e084^0x449376f5c0ae61cd^0xe86799ccb0a6a9cf v 0x449376f5c0ae61cd^0x90aecfaaa36102c3^0xe86799ccb0a6a9cf^0x53cd87bfdd08fa16 v 0x53cd87bfdd08fa16^0x53cd87bfdd08fa16 v 0x4fc8bf4294a81c70^0x53cd87bfdd08fa16^0xfe7e1f8a2c1c0598^0x58eb8f2785c78d86\n",
      "0x90aecfaaa36102c3^0x2b7f939881f2e084^0x53cd87bfdd08fa16^0x4fc8bf4294a81c70^0xe86799ccb0a6a9cf v 0x2b7f939881f2e084^0x449376f5c0ae61cd^0x4fc8bf4294a81c70^0x2b7f939881f2e084^0x53cd87bfdd08fa16 v 0x2b7f939881f2e084^0x58eb8f2785c78d86^0x4fc8bf4294a81c70^0x53cd87bfdd08fa16^0x53cd87bfdd08fa16 v 0x4fc8bf4294a81c70^0x2b7f939881f2e084^0x90aecfaaa36102c3 v 0x4fc8bf4294a81c70^0x53cd87bfdd08fa16^0x53cd87bfdd08fa16^0x4fc8bf4294a81c70^0x2b7f939881f2e084 v 0x4fc8bf4294a81c70^0xe86799ccb0a6a9cf^0x2b7f939881f2e084^0x2b7f939881f2e084^0x53cd87bfdd08fa16 v 0x4fc8bf4294a81c70^0x4fc8bf4294a81c70^0x58eb8f2785c78d86^0x53cd87bfdd08fa16 v 0x4fc8bf4294a81c70^0x4fc8bf4294a81c70 v 0x449376f5c0ae61cd^0xe86799ccb0a6a9cf^0x2b7f939881f2e084^0x4fc8bf4294a81c70 v 0x449376f5c0ae61cd^0x4fc8bf4294a81c70^0xe86799ccb0a6a9cf^0x90aecfaaa36102c3 v 0x90aecfaaa36102c3^0x449376f5c0ae61cd^0x4fc8bf4294a81c70^0x53cd87bfdd08fa16^0x2b7f939881f2e084 v 0x4fc8bf4294a81c70^0x53cd87bfdd08fa16^0x2b7f939881f2e084^0x4fc8bf4294a81c70^0xfe7e1f8a2c1c0598 v 0x58eb8f2785c78d86^0x4fc8bf4294a81c70^0x4fc8bf4294a81c70^0xfe7e1f8a2c1c0598 v 0x4fc8bf4294a81c70^0x2b7f939881f2e084^0x53cd87bfdd08fa16^0xfe7e1f8a2c1c0598^0x58eb8f2785c78d86 v 0x53cd87bfdd08fa16^0xfe7e1f8a2c1c0598^0x4fc8bf4294a81c70\n"
     ]
    }
   ],
   "source": [
    "import random\n",
    "\n",
    "garbled = True\n",
    "\n",
    "for circuit in circuits:\n",
    "    result = []\n",
    "    for c in circuit:\n",
    "        s = []\n",
    "        for i, bit in enumerate(str(c)):\n",
    "            if bit == '*': continue\n",
    "            label = ('-' if bit == '0' else '') + ('a'+str(i%n_bits) if i < n_bits else 'b'+str(i%n_bits))\n",
    "            s.append(label_to_random_label[label] if garbled else label)\n",
    "        \n",
    "        if garbled:\n",
    "            random.shuffle(s)\n",
    "        result.append('^'.join(s))\n",
    "    if garbled:\n",
    "        random.shuffle(result)\n",
    "    print(' v '.join(result))\n",
    "    "
   ]
  },
  {
   "cell_type": "code",
   "execution_count": 93,
   "metadata": {},
   "outputs": [
    {
     "name": "stdout",
     "output_type": "stream",
     "text": [
      "a409bb31125e68e6\n"
     ]
    },
    {
     "data": {
      "text/plain": [
       "'떥ꟹⱊ옟'"
      ]
     },
     "execution_count": 93,
     "metadata": {},
     "output_type": "execute_result"
    }
   ],
   "source": [
    "from aes_cbc import AESCipher\n",
    "\n",
    "v = [value for value in label_to_random_label.values()]\n",
    "#v[0].decode('hex')\n",
    "print(v[0])\n",
    "bytes.fromhex(v[2]).decode('utf-16')"
   ]
  }
 ],
 "metadata": {
  "kernelspec": {
   "display_name": "Python 3",
   "language": "python",
   "name": "python3"
  },
  "language_info": {
   "codemirror_mode": {
    "name": "ipython",
    "version": 3
   },
   "file_extension": ".py",
   "mimetype": "text/x-python",
   "name": "python",
   "nbconvert_exporter": "python",
   "pygments_lexer": "ipython3",
   "version": "3.7.4"
  }
 },
 "nbformat": 4,
 "nbformat_minor": 2
}
